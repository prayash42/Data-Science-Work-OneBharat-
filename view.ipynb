{
 "cells": [
  {
   "cell_type": "code",
   "execution_count": 7,
   "metadata": {},
   "outputs": [],
   "source": [
    "import pandas as pd\n"
   ]
  },
  {
   "cell_type": "code",
   "execution_count": 8,
   "metadata": {},
   "outputs": [
    {
     "name": "stdout",
     "output_type": "stream",
     "text": [
      "hi\n"
     ]
    }
   ],
   "source": [
    "print(\"hi\")"
   ]
  },
  {
   "cell_type": "code",
   "execution_count": 9,
   "metadata": {},
   "outputs": [],
   "source": [
    "df=pd.read_csv(\"P2- OfficeSupplies Data.csv\")"
   ]
  },
  {
   "cell_type": "code",
   "execution_count": 10,
   "metadata": {},
   "outputs": [],
   "source": [
    "df1=pd.read_json(\"P1- BankStatements.json\")"
   ]
  },
  {
   "cell_type": "code",
   "execution_count": 11,
   "metadata": {},
   "outputs": [
    {
     "data": {
      "text/html": [
       "<div>\n",
       "<style scoped>\n",
       "    .dataframe tbody tr th:only-of-type {\n",
       "        vertical-align: middle;\n",
       "    }\n",
       "\n",
       "    .dataframe tbody tr th {\n",
       "        vertical-align: top;\n",
       "    }\n",
       "\n",
       "    .dataframe thead th {\n",
       "        text-align: right;\n",
       "    }\n",
       "</style>\n",
       "<table border=\"1\" class=\"dataframe\">\n",
       "  <thead>\n",
       "    <tr style=\"text-align: right;\">\n",
       "      <th></th>\n",
       "      <th>Account</th>\n",
       "    </tr>\n",
       "  </thead>\n",
       "  <tbody>\n",
       "    <tr>\n",
       "      <th>Profile</th>\n",
       "      <td>{'Holders': {'type': 'SINGLE', 'Holder': {'nam...</td>\n",
       "    </tr>\n",
       "    <tr>\n",
       "      <th>type</th>\n",
       "      <td>deposit</td>\n",
       "    </tr>\n",
       "    <tr>\n",
       "      <th>maskedAccNumber</th>\n",
       "      <td>XXXX6461</td>\n",
       "    </tr>\n",
       "    <tr>\n",
       "      <th>Transactions</th>\n",
       "      <td>{'startDate': '2023-05-31', 'endDate': '2024-0...</td>\n",
       "    </tr>\n",
       "    <tr>\n",
       "      <th>linkedAccRef</th>\n",
       "      <td>02f28b8d-d8a3-43d7-88c6-5fabb2e51541</td>\n",
       "    </tr>\n",
       "    <tr>\n",
       "      <th>xsi:schemaLocation</th>\n",
       "      <td>http://api.rebit.org.in/FISchema/deposit.xsd</td>\n",
       "    </tr>\n",
       "    <tr>\n",
       "      <th>xmlns:xsi</th>\n",
       "      <td>http://www.w3.org/2001/XMLSchema-instance</td>\n",
       "    </tr>\n",
       "    <tr>\n",
       "      <th>xmlns</th>\n",
       "      <td>http://api.rebit.org.in/FISchema/deposit</td>\n",
       "    </tr>\n",
       "    <tr>\n",
       "      <th>Summary</th>\n",
       "      <td>{'currentBalance': '761.41', 'currency': 'INR'...</td>\n",
       "    </tr>\n",
       "    <tr>\n",
       "      <th>version</th>\n",
       "      <td>1.1</td>\n",
       "    </tr>\n",
       "  </tbody>\n",
       "</table>\n",
       "</div>"
      ],
      "text/plain": [
       "                                                              Account\n",
       "Profile             {'Holders': {'type': 'SINGLE', 'Holder': {'nam...\n",
       "type                                                          deposit\n",
       "maskedAccNumber                                              XXXX6461\n",
       "Transactions        {'startDate': '2023-05-31', 'endDate': '2024-0...\n",
       "linkedAccRef                     02f28b8d-d8a3-43d7-88c6-5fabb2e51541\n",
       "xsi:schemaLocation       http://api.rebit.org.in/FISchema/deposit.xsd\n",
       "xmlns:xsi                   http://www.w3.org/2001/XMLSchema-instance\n",
       "xmlns                        http://api.rebit.org.in/FISchema/deposit\n",
       "Summary             {'currentBalance': '761.41', 'currency': 'INR'...\n",
       "version                                                           1.1"
      ]
     },
     "execution_count": 11,
     "metadata": {},
     "output_type": "execute_result"
    }
   ],
   "source": [
    "df1.sample(10)"
   ]
  },
  {
   "cell_type": "code",
   "execution_count": 12,
   "metadata": {},
   "outputs": [
    {
     "data": {
      "text/plain": [
       "(43, 6)"
      ]
     },
     "execution_count": 12,
     "metadata": {},
     "output_type": "execute_result"
    }
   ],
   "source": [
    "df.shape"
   ]
  },
  {
   "cell_type": "code",
   "execution_count": 13,
   "metadata": {},
   "outputs": [
    {
     "data": {
      "text/plain": [
       "Item\n",
       "Binder     15\n",
       "Pencil     13\n",
       "Pen Set     7\n",
       "Pen         5\n",
       "Desk        3\n",
       "Name: count, dtype: int64"
      ]
     },
     "execution_count": 13,
     "metadata": {},
     "output_type": "execute_result"
    }
   ],
   "source": [
    "df['Item'].value_counts()"
   ]
  },
  {
   "cell_type": "code",
   "execution_count": 14,
   "metadata": {},
   "outputs": [
    {
     "data": {
      "text/plain": [
       "Index(['OrderDate', 'Region', 'Rep', 'Item', 'Units', 'Unit Price'], dtype='object')"
      ]
     },
     "execution_count": 14,
     "metadata": {},
     "output_type": "execute_result"
    }
   ],
   "source": [
    "df.columns"
   ]
  },
  {
   "cell_type": "code",
   "execution_count": 15,
   "metadata": {},
   "outputs": [],
   "source": [
    "total_sales = df.groupby('Item')['Units'].sum()"
   ]
  },
  {
   "cell_type": "code",
   "execution_count": 16,
   "metadata": {},
   "outputs": [
    {
     "data": {
      "text/plain": [
       "Item\n",
       "Binder     722\n",
       "Desk        10\n",
       "Pen        278\n",
       "Pen Set    395\n",
       "Pencil     716\n",
       "Name: Units, dtype: int64"
      ]
     },
     "execution_count": 16,
     "metadata": {},
     "output_type": "execute_result"
    }
   ],
   "source": [
    "total_sales = df.groupby('Item')['Units'].sum()\n",
    "total_sales"
   ]
  },
  {
   "cell_type": "code",
   "execution_count": 17,
   "metadata": {},
   "outputs": [
    {
     "ename": "AttributeError",
     "evalue": "'numpy.ndarray' object has no attribute 'count'",
     "output_type": "error",
     "traceback": [
      "\u001b[1;31m---------------------------------------------------------------------------\u001b[0m",
      "\u001b[1;31mAttributeError\u001b[0m                            Traceback (most recent call last)",
      "Cell \u001b[1;32mIn[17], line 1\u001b[0m\n\u001b[1;32m----> 1\u001b[0m \u001b[43mdf\u001b[49m\u001b[43m[\u001b[49m\u001b[38;5;124;43m'\u001b[39;49m\u001b[38;5;124;43mRep\u001b[39;49m\u001b[38;5;124;43m'\u001b[39;49m\u001b[43m]\u001b[49m\u001b[38;5;241;43m.\u001b[39;49m\u001b[43munique\u001b[49m\u001b[43m(\u001b[49m\u001b[43m)\u001b[49m\u001b[38;5;241;43m.\u001b[39;49m\u001b[43mcount\u001b[49m()\n",
      "\u001b[1;31mAttributeError\u001b[0m: 'numpy.ndarray' object has no attribute 'count'"
     ]
    }
   ],
   "source": [
    "df['Rep'].unique().count()"
   ]
  },
  {
   "cell_type": "code",
   "execution_count": 18,
   "metadata": {},
   "outputs": [
    {
     "data": {
      "text/plain": [
       "Rep\n",
       "Alex       281\n",
       "Bill       213\n",
       "James      142\n",
       "Matthew    193\n",
       "Morgan     173\n",
       "Nick       125\n",
       "Rachel     183\n",
       "Richard    396\n",
       "Smith      156\n",
       "Susan      170\n",
       "Thomas      89\n",
       "Name: Units, dtype: int64"
      ]
     },
     "execution_count": 18,
     "metadata": {},
     "output_type": "execute_result"
    }
   ],
   "source": [
    "Customer_sale = df.groupby('Rep')['Units'].sum()\n",
    "Customer_sale"
   ]
  },
  {
   "cell_type": "code",
   "execution_count": 19,
   "metadata": {},
   "outputs": [
    {
     "name": "stderr",
     "output_type": "stream",
     "text": [
      "C:\\Users\\ASUS\\AppData\\Local\\Temp\\ipykernel_5176\\1780157855.py:1: UserWarning: Could not infer format, so each element will be parsed individually, falling back to `dateutil`. To ensure parsing is consistent and as-expected, please specify a format.\n",
      "  df['Orderdate'] = pd.to_datetime(df['OrderDate'])\n"
     ]
    }
   ],
   "source": [
    "df['Orderdate'] = pd.to_datetime(df['OrderDate'])"
   ]
  },
  {
   "cell_type": "code",
   "execution_count": 20,
   "metadata": {},
   "outputs": [
    {
     "data": {
      "text/html": [
       "<div>\n",
       "<style scoped>\n",
       "    .dataframe tbody tr th:only-of-type {\n",
       "        vertical-align: middle;\n",
       "    }\n",
       "\n",
       "    .dataframe tbody tr th {\n",
       "        vertical-align: top;\n",
       "    }\n",
       "\n",
       "    .dataframe thead th {\n",
       "        text-align: right;\n",
       "    }\n",
       "</style>\n",
       "<table border=\"1\" class=\"dataframe\">\n",
       "  <thead>\n",
       "    <tr style=\"text-align: right;\">\n",
       "      <th></th>\n",
       "      <th>Rep</th>\n",
       "      <th>OrderDate</th>\n",
       "    </tr>\n",
       "  </thead>\n",
       "  <tbody>\n",
       "    <tr>\n",
       "      <th>0</th>\n",
       "      <td>Alex</td>\n",
       "      <td>5</td>\n",
       "    </tr>\n",
       "    <tr>\n",
       "      <th>1</th>\n",
       "      <td>Bill</td>\n",
       "      <td>5</td>\n",
       "    </tr>\n",
       "    <tr>\n",
       "      <th>2</th>\n",
       "      <td>James</td>\n",
       "      <td>4</td>\n",
       "    </tr>\n",
       "    <tr>\n",
       "      <th>3</th>\n",
       "      <td>Matthew</td>\n",
       "      <td>4</td>\n",
       "    </tr>\n",
       "    <tr>\n",
       "      <th>4</th>\n",
       "      <td>Morgan</td>\n",
       "      <td>3</td>\n",
       "    </tr>\n",
       "    <tr>\n",
       "      <th>5</th>\n",
       "      <td>Nick</td>\n",
       "      <td>2</td>\n",
       "    </tr>\n",
       "    <tr>\n",
       "      <th>6</th>\n",
       "      <td>Rachel</td>\n",
       "      <td>4</td>\n",
       "    </tr>\n",
       "    <tr>\n",
       "      <th>7</th>\n",
       "      <td>Richard</td>\n",
       "      <td>8</td>\n",
       "    </tr>\n",
       "    <tr>\n",
       "      <th>8</th>\n",
       "      <td>Smith</td>\n",
       "      <td>3</td>\n",
       "    </tr>\n",
       "    <tr>\n",
       "      <th>9</th>\n",
       "      <td>Susan</td>\n",
       "      <td>3</td>\n",
       "    </tr>\n",
       "    <tr>\n",
       "      <th>10</th>\n",
       "      <td>Thomas</td>\n",
       "      <td>2</td>\n",
       "    </tr>\n",
       "  </tbody>\n",
       "</table>\n",
       "</div>"
      ],
      "text/plain": [
       "        Rep  OrderDate\n",
       "0      Alex          5\n",
       "1      Bill          5\n",
       "2     James          4\n",
       "3   Matthew          4\n",
       "4    Morgan          3\n",
       "5      Nick          2\n",
       "6    Rachel          4\n",
       "7   Richard          8\n",
       "8     Smith          3\n",
       "9     Susan          3\n",
       "10   Thomas          2"
      ]
     },
     "execution_count": 20,
     "metadata": {},
     "output_type": "execute_result"
    }
   ],
   "source": [
    "purchase_frequency = df.groupby('Rep')['OrderDate'].count().reset_index()\n",
    "purchase_frequency"
   ]
  },
  {
   "cell_type": "code",
   "execution_count": 21,
   "metadata": {},
   "outputs": [
    {
     "data": {
      "text/plain": [
       "Rep\n",
       "Alex       5\n",
       "Bill       5\n",
       "James      4\n",
       "Matthew    4\n",
       "Morgan     3\n",
       "Nick       2\n",
       "Rachel     4\n",
       "Richard    8\n",
       "Smith      3\n",
       "Susan      3\n",
       "Thomas     2\n",
       "Name: OrderDate, dtype: int64"
      ]
     },
     "execution_count": 21,
     "metadata": {},
     "output_type": "execute_result"
    }
   ],
   "source": [
    "purchase_frequencys = df.groupby('Rep')['OrderDate'].count()\n",
    "purchase_frequencys"
   ]
  },
  {
   "cell_type": "code",
   "execution_count": 22,
   "metadata": {},
   "outputs": [
    {
     "name": "stderr",
     "output_type": "stream",
     "text": [
      "C:\\Users\\ASUS\\AppData\\Local\\Temp\\ipykernel_5176\\129886057.py:1: UserWarning: Could not infer format, so each element will be parsed individually, falling back to `dateutil`. To ensure parsing is consistent and as-expected, please specify a format.\n",
      "  df['OrderDate'] = pd.to_datetime(df['OrderDate'])\n"
     ]
    }
   ],
   "source": [
    "df['OrderDate'] = pd.to_datetime(df['OrderDate'])\n",
    "\n",
    "# Extract month and year from 'OrderDate'\n",
    "df['YearMonth'] = df['OrderDate'].dt.to_period('M')\n",
    "\n"
   ]
  },
  {
   "cell_type": "code",
   "execution_count": 25,
   "metadata": {},
   "outputs": [
    {
     "data": {
      "image/png": "[encoded data removed]",
      "text/plain": [
       "<Figure size 1000x600 with 1 Axes>"
      ]
     },
     "metadata": {},
     "output_type": "display_data"
    }
   ],
   "source": [
    "# Group by 'YearMonth' and sum 'SalesAmount'\n",
    "monthly_sales = df.groupby('YearMonth')['Units'].sum().reset_index()\n",
    "\n",
    "# Plotting the monthly sales trends\n",
    "plt.figure(figsize=(10, 6))\n",
    "plt.plot(monthly_sales['YearMonth'].astype(str), monthly_sales['Units'], marker='o')\n",
    "plt.title('Monthly Sales Trends')\n",
    "plt.xlabel('Month')\n",
    "plt.ylabel('Units')\n",
    "plt.xticks(rotation=45)\n",
    "plt.grid(True)\n",
    "\n",
    "plt.tight_layout()\n",
    "plt.show()"
   ]
  },
  {
   "cell_type": "code",
   "execution_count": 26,
   "metadata": {},
   "outputs": [
    {
     "data": {
      "text/html": [
       "<div>\n",
       "<style scoped>\n",
       "    .dataframe tbody tr th:only-of-type {\n",
       "        vertical-align: middle;\n",
       "    }\n",
       "\n",
       "    .dataframe tbody tr th {\n",
       "        vertical-align: top;\n",
       "    }\n",
       "\n",
       "    .dataframe thead th {\n",
       "        text-align: right;\n",
       "    }\n",
       "</style>\n",
       "<table border=\"1\" class=\"dataframe\">\n",
       "  <thead>\n",
       "    <tr style=\"text-align: right;\">\n",
       "      <th></th>\n",
       "      <th>YearMonth</th>\n",
       "      <th>Units</th>\n",
       "    </tr>\n",
       "  </thead>\n",
       "  <tbody>\n",
       "    <tr>\n",
       "      <th>0</th>\n",
       "      <td>2014-07</td>\n",
       "      <td>227</td>\n",
       "    </tr>\n",
       "    <tr>\n",
       "      <th>1</th>\n",
       "      <td>2014-08</td>\n",
       "      <td>80</td>\n",
       "    </tr>\n",
       "    <tr>\n",
       "      <th>2</th>\n",
       "      <td>2014-09</td>\n",
       "      <td>101</td>\n",
       "    </tr>\n",
       "    <tr>\n",
       "      <th>3</th>\n",
       "      <td>2014-10</td>\n",
       "      <td>163</td>\n",
       "    </tr>\n",
       "    <tr>\n",
       "      <th>4</th>\n",
       "      <td>2014-11</td>\n",
       "      <td>122</td>\n",
       "    </tr>\n",
       "    <tr>\n",
       "      <th>5</th>\n",
       "      <td>2014-12</td>\n",
       "      <td>263</td>\n",
       "    </tr>\n",
       "    <tr>\n",
       "      <th>6</th>\n",
       "      <td>2015-01</td>\n",
       "      <td>191</td>\n",
       "    </tr>\n",
       "    <tr>\n",
       "      <th>7</th>\n",
       "      <td>2015-02</td>\n",
       "      <td>154</td>\n",
       "    </tr>\n",
       "    <tr>\n",
       "      <th>8</th>\n",
       "      <td>2015-03</td>\n",
       "      <td>113</td>\n",
       "    </tr>\n",
       "    <tr>\n",
       "      <th>9</th>\n",
       "      <td>2015-04</td>\n",
       "      <td>297</td>\n",
       "    </tr>\n",
       "    <tr>\n",
       "      <th>10</th>\n",
       "      <td>2015-05</td>\n",
       "      <td>255</td>\n",
       "    </tr>\n",
       "    <tr>\n",
       "      <th>11</th>\n",
       "      <td>2015-06</td>\n",
       "      <td>155</td>\n",
       "    </tr>\n",
       "  </tbody>\n",
       "</table>\n",
       "</div>"
      ],
      "text/plain": [
       "   YearMonth  Units\n",
       "0    2014-07    227\n",
       "1    2014-08     80\n",
       "2    2014-09    101\n",
       "3    2014-10    163\n",
       "4    2014-11    122\n",
       "5    2014-12    263\n",
       "6    2015-01    191\n",
       "7    2015-02    154\n",
       "8    2015-03    113\n",
       "9    2015-04    297\n",
       "10   2015-05    255\n",
       "11   2015-06    155"
      ]
     },
     "execution_count": 26,
     "metadata": {},
     "output_type": "execute_result"
    }
   ],
   "source": [
    "monthly_sales"
   ]
  },
  {
   "cell_type": "code",
   "execution_count": 24,
   "metadata": {},
   "outputs": [],
   "source": [
    "import matplotlib.pyplot as plt"
   ]
  },
  {
   "cell_type": "code",
   "execution_count": null,
   "metadata": {},
   "outputs": [
    {
     "name": "stdout",
     "output_type": "stream",
     "text": [
      "Collecting matplotlib\n",
      "  Downloading matplotlib-3.9.0-cp312-cp312-win_amd64.whl.metadata (11 kB)\n",
      "Collecting contourpy>=1.0.1 (from matplotlib)\n",
      "  Downloading contourpy-1.2.1-cp312-cp312-win_amd64.whl.metadata (5.8 kB)\n",
      "Collecting cycler>=0.10 (from matplotlib)\n",
      "  Using cached cycler-0.12.1-py3-none-any.whl.metadata (3.8 kB)\n",
      "Collecting fonttools>=4.22.0 (from matplotlib)\n",
      "  Downloading fonttools-4.53.0-cp312-cp312-win_amd64.whl.metadata (165 kB)\n",
      "     ---------------------------------------- 0.0/165.5 kB ? eta -:--:--\n",
      "     -- ------------------------------------- 10.2/165.5 kB ? eta -:--:--\n",
      "     --------- --------------------------- 41.0/165.5 kB 495.5 kB/s eta 0:00:01\n",
      "     ---------------------------- --------- 122.9/165.5 kB 1.0 MB/s eta 0:00:01\n",
      "     ------------------------------------ 165.5/165.5 kB 995.2 kB/s eta 0:00:00\n",
      "Collecting kiwisolver>=1.3.1 (from matplotlib)\n",
      "  Downloading kiwisolver-1.4.5-cp312-cp312-win_amd64.whl.metadata (6.5 kB)\n",
      "Requirement already satisfied: numpy>=1.23 in c:\\users\\asus\\appdata\\local\\programs\\python\\python312\\lib\\site-packages (from matplotlib) (2.0.0)\n",
      "Requirement already satisfied: packaging>=20.0 in c:\\users\\asus\\appdata\\roaming\\python\\python312\\site-packages (from matplotlib) (24.1)\n",
      "Collecting pillow>=8 (from matplotlib)\n",
      "  Downloading pillow-10.4.0-cp312-cp312-win_amd64.whl.metadata (9.3 kB)\n",
      "Collecting pyparsing>=2.3.1 (from matplotlib)\n",
      "  Using cached pyparsing-3.1.2-py3-none-any.whl.metadata (5.1 kB)\n",
      "Requirement already satisfied: python-dateutil>=2.7 in c:\\users\\asus\\appdata\\roaming\\python\\python312\\site-packages (from matplotlib) (2.9.0.post0)\n",
      "Requirement already satisfied: six>=1.5 in c:\\users\\asus\\appdata\\roaming\\python\\python312\\site-packages (from python-dateutil>=2.7->matplotlib) (1.16.0)\n",
      "Downloading matplotlib-3.9.0-cp312-cp312-win_amd64.whl (8.0 MB)\n",
      "   ---------------------------------------- 0.0/8.0 MB ? eta -:--:--\n",
      "    --------------------------------------- 0.2/8.0 MB 5.3 MB/s eta 0:00:02\n",
      "   - -------------------------------------- 0.3/8.0 MB 4.2 MB/s eta 0:00:02\n",
      "   --- ------------------------------------ 0.8/8.0 MB 5.4 MB/s eta 0:00:02\n",
      "   ----- ---------------------------------- 1.1/8.0 MB 5.8 MB/s eta 0:00:02\n",
      "   ------ --------------------------------- 1.3/8.0 MB 5.2 MB/s eta 0:00:02\n",
      "   ------- -------------------------------- 1.5/8.0 MB 5.1 MB/s eta 0:00:02\n",
      "   ------- -------------------------------- 1.5/8.0 MB 5.1 MB/s eta 0:00:02\n",
      "   ------- -------------------------------- 1.5/8.0 MB 5.1 MB/s eta 0:00:02\n",
      "   ------- -------------------------------- 1.5/8.0 MB 3.4 MB/s eta 0:00:02\n",
      "   -------- ------------------------------- 1.8/8.0 MB 3.6 MB/s eta 0:00:02\n",
      "   ---------- ----------------------------- 2.0/8.0 MB 3.7 MB/s eta 0:00:02\n",
      "   ------------ --------------------------- 2.5/8.0 MB 4.3 MB/s eta 0:00:02\n",
      "   ------------- -------------------------- 2.7/8.0 MB 4.2 MB/s eta 0:00:02\n",
      "   -------------- ------------------------- 2.9/8.0 MB 4.2 MB/s eta 0:00:02\n",
      "   --------------- ------------------------ 3.1/8.0 MB 4.2 MB/s eta 0:00:02\n",
      "   ---------------- ----------------------- 3.2/8.0 MB 4.2 MB/s eta 0:00:02\n",
      "   ---------------- ----------------------- 3.3/8.0 MB 4.1 MB/s eta 0:00:02\n",
      "   ---------------- ----------------------- 3.3/8.0 MB 4.1 MB/s eta 0:00:02\n",
      "   ---------------- ----------------------- 3.3/8.0 MB 4.1 MB/s eta 0:00:02\n",
      "   ---------------- ----------------------- 3.3/8.0 MB 4.1 MB/s eta 0:00:02\n",
      "   ----------------- ---------------------- 3.5/8.0 MB 3.6 MB/s eta 0:00:02\n",
      "   ------------------ --------------------- 3.7/8.0 MB 3.6 MB/s eta 0:00:02\n",
      "   ------------------- -------------------- 3.8/8.0 MB 3.6 MB/s eta 0:00:02\n",
      "   -------------------- ------------------- 4.0/8.0 MB 3.5 MB/s eta 0:00:02\n",
      "   -------------------- ------------------- 4.1/8.0 MB 3.5 MB/s eta 0:00:02\n",
      "   --------------------- ------------------ 4.2/8.0 MB 3.4 MB/s eta 0:00:02\n",
      "   ---------------------- ----------------- 4.4/8.0 MB 3.5 MB/s eta 0:00:02\n",
      "   ------------------------ --------------- 4.9/8.0 MB 3.7 MB/s eta 0:00:01\n",
      "   ------------------------- -------------- 5.1/8.0 MB 3.7 MB/s eta 0:00:01\n",
      "   -------------------------- ------------- 5.3/8.0 MB 3.7 MB/s eta 0:00:01\n",
      "   --------------------------- ------------ 5.4/8.0 MB 3.8 MB/s eta 0:00:01\n",
      "   --------------------------- ------------ 5.4/8.0 MB 3.8 MB/s eta 0:00:01\n",
      "   --------------------------- ------------ 5.4/8.0 MB 3.8 MB/s eta 0:00:01\n",
      "   ------------------------------ --------- 6.0/8.0 MB 3.7 MB/s eta 0:00:01\n",
      "   ------------------------------ --------- 6.2/8.0 MB 3.8 MB/s eta 0:00:01\n",
      "   ------------------------------- -------- 6.4/8.0 MB 3.8 MB/s eta 0:00:01\n",
      "   -------------------------------- ------- 6.6/8.0 MB 3.8 MB/s eta 0:00:01\n",
      "   --------------------------------- ------ 6.7/8.0 MB 3.8 MB/s eta 0:00:01\n",
      "   ---------------------------------- ----- 6.9/8.0 MB 3.8 MB/s eta 0:00:01\n",
      "   ----------------------------------- ---- 7.1/8.0 MB 3.8 MB/s eta 0:00:01\n",
      "   ------------------------------------ --- 7.2/8.0 MB 3.8 MB/s eta 0:00:01\n",
      "   ------------------------------------ --- 7.4/8.0 MB 3.8 MB/s eta 0:00:01\n",
      "   ------------------------------------- -- 7.5/8.0 MB 3.7 MB/s eta 0:00:01\n",
      "   -------------------------------------- - 7.6/8.0 MB 3.7 MB/s eta 0:00:01\n",
      "   -------------------------------------- - 7.8/8.0 MB 3.7 MB/s eta 0:00:01\n",
      "   ---------------------------------------  7.9/8.0 MB 3.7 MB/s eta 0:00:01\n",
      "   ---------------------------------------  8.0/8.0 MB 3.7 MB/s eta 0:00:01\n",
      "   ---------------------------------------- 8.0/8.0 MB 3.6 MB/s eta 0:00:00\n",
      "Downloading contourpy-1.2.1-cp312-cp312-win_amd64.whl (189 kB)\n",
      "   ---------------------------------------- 0.0/189.9 kB ? eta -:--:--\n",
      "   ------------------------------------ --- 174.1/189.9 kB 5.3 MB/s eta 0:00:01\n",
      "   ---------------------------------------- 189.9/189.9 kB 2.9 MB/s eta 0:00:00\n",
      "Using cached cycler-0.12.1-py3-none-any.whl (8.3 kB)\n",
      "Downloading fonttools-4.53.0-cp312-cp312-win_amd64.whl (2.2 MB)\n",
      "   ---------------------------------------- 0.0/2.2 MB ? eta -:--:--\n",
      "   --------- ------------------------------ 0.5/2.2 MB 16.6 MB/s eta 0:00:01\n",
      "   ------------- -------------------------- 0.7/2.2 MB 8.9 MB/s eta 0:00:01\n",
      "   ---------------- ----------------------- 0.9/2.2 MB 6.3 MB/s eta 0:00:01\n",
      "   ------------------ --------------------- 1.0/2.2 MB 6.0 MB/s eta 0:00:01\n",
      "   --------------------- ------------------ 1.2/2.2 MB 5.4 MB/s eta 0:00:01\n",
      "   ----------------------- ---------------- 1.3/2.2 MB 5.2 MB/s eta 0:00:01\n",
      "   -------------------------- ------------- 1.5/2.2 MB 4.9 MB/s eta 0:00:01\n",
      "   ----------------------------- ---------- 1.6/2.2 MB 4.7 MB/s eta 0:00:01\n",
      "   -------------------------------- ------- 1.8/2.2 MB 4.5 MB/s eta 0:00:01\n",
      "   ---------------------------------- ----- 1.9/2.2 MB 4.3 MB/s eta 0:00:01\n",
      "   ------------------------------------- -- 2.0/2.2 MB 4.3 MB/s eta 0:00:01\n",
      "   ---------------------------------------  2.2/2.2 MB 4.2 MB/s eta 0:00:01\n",
      "   ---------------------------------------- 2.2/2.2 MB 4.0 MB/s eta 0:00:00\n",
      "Downloading kiwisolver-1.4.5-cp312-cp312-win_amd64.whl (56 kB)\n",
      "   ---------------------------------------- 0.0/56.0 kB ? eta -:--:--\n",
      "   ---------------------------------------- 56.0/56.0 kB 1.5 MB/s eta 0:00:00\n",
      "Downloading pillow-10.4.0-cp312-cp312-win_amd64.whl (2.6 MB)\n",
      "   ---------------------------------------- 0.0/2.6 MB ? eta -:--:--\n",
      "   ----- ---------------------------------- 0.3/2.6 MB 10.9 MB/s eta 0:00:01\n",
      "   ---------- ----------------------------- 0.7/2.6 MB 8.7 MB/s eta 0:00:01\n",
      "   ------------- -------------------------- 0.8/2.6 MB 6.7 MB/s eta 0:00:01\n",
      "   --------------- ------------------------ 1.0/2.6 MB 6.3 MB/s eta 0:00:01\n",
      "   ------------------ --------------------- 1.2/2.6 MB 5.3 MB/s eta 0:00:01\n",
      "   -------------------- ------------------- 1.3/2.6 MB 4.9 MB/s eta 0:00:01\n",
      "   ----------------------- ---------------- 1.5/2.6 MB 4.8 MB/s eta 0:00:01\n",
      "   ------------------------- -------------- 1.6/2.6 MB 4.5 MB/s eta 0:00:01\n",
      "   --------------------------- ------------ 1.8/2.6 MB 4.5 MB/s eta 0:00:01\n",
      "   ------------------------------ --------- 2.0/2.6 MB 4.3 MB/s eta 0:00:01\n",
      "   --------------------------------- ------ 2.1/2.6 MB 4.2 MB/s eta 0:00:01\n",
      "   ------------------------------------ --- 2.3/2.6 MB 4.1 MB/s eta 0:00:01\n",
      "   -------------------------------------- - 2.4/2.6 MB 4.1 MB/s eta 0:00:01\n",
      "   ---------------------------------------  2.5/2.6 MB 4.1 MB/s eta 0:00:01\n",
      "   ---------------------------------------- 2.6/2.6 MB 3.9 MB/s eta 0:00:00\n",
      "Using cached pyparsing-3.1.2-py3-none-any.whl (103 kB)\n",
      "Installing collected packages: pyparsing, pillow, kiwisolver, fonttools, cycler, contourpy, matplotlib\n",
      "Successfully installed contourpy-1.2.1 cycler-0.12.1 fonttools-4.53.0 kiwisolver-1.4.5 matplotlib-3.9.0 pillow-10.4.0 pyparsing-3.1.2\n",
      "Note: you may need to restart the kernel to use updated packages.\n"
     ]
    },
    {
     "name": "stderr",
     "output_type": "stream",
     "text": [
      "\n",
      "[notice] A new release of pip is available: 24.0 -> 24.1.1\n",
      "[notice] To update, run: python.exe -m pip install --upgrade pip\n"
     ]
    }
   ],
   "source": [
    "pip install matplotlib"
   ]
  },
  {
   "cell_type": "code",
   "execution_count": null,
   "metadata": {},
   "outputs": [
    {
     "data": {
      "image/png": "[encoded data removed]",
      "text/plain": [
       "<Figure size 1000x600 with 1 Axes>"
      ]
     },
     "metadata": {},
     "output_type": "display_data"
    }
   ],
   "source": [
    "\n",
    "\n",
    "# Convert 'OrderDate' to datetime format\n",
    "df['OrderDate'] = pd.to_datetime(df['OrderDate'])\n",
    "\n",
    "# Extract month and year from 'OrderDate'\n",
    "df['Month'] = df['OrderDate'].dt.month\n",
    "\n",
    "# Group by month and sum 'SalesAmount'\n",
    "monthly_sales = df.groupby('Month')['Units'].sum().reset_index()\n",
    "\n",
    "# Plotting the seasonal sales patterns\n",
    "plt.figure(figsize=(10, 6))\n",
    "plt.plot(monthly_sales['Month'], monthly_sales['Units'], marker='o')\n",
    "plt.title('Seasonal Sales Patterns')\n",
    "plt.xlabel('Month')\n",
    "plt.ylabel('Units')\n",
    "plt.xticks(range(1, 13), ['Jan', 'Feb', 'Mar', 'Apr', 'May', 'Jun', 'Jul', 'Aug', 'Sep', 'Oct', 'Nov', 'Dec'])\n",
    "plt.grid(True)\n",
    "plt.tight_layout()\n",
    "plt.show()\n"
   ]
  },
  {
   "cell_type": "code",
   "execution_count": null,
   "metadata": {},
   "outputs": [
    {
     "data": {
      "text/html": [
       "<div>\n",
       "<style scoped>\n",
       "    .dataframe tbody tr th:only-of-type {\n",
       "        vertical-align: middle;\n",
       "    }\n",
       "\n",
       "    .dataframe tbody tr th {\n",
       "        vertical-align: top;\n",
       "    }\n",
       "\n",
       "    .dataframe thead th {\n",
       "        text-align: right;\n",
       "    }\n",
       "</style>\n",
       "<table border=\"1\" class=\"dataframe\">\n",
       "  <thead>\n",
       "    <tr style=\"text-align: right;\">\n",
       "      <th></th>\n",
       "      <th>Region</th>\n",
       "      <th>Units</th>\n",
       "    </tr>\n",
       "  </thead>\n",
       "  <tbody>\n",
       "    <tr>\n",
       "      <th>0</th>\n",
       "      <td>Central</td>\n",
       "      <td>1199</td>\n",
       "    </tr>\n",
       "    <tr>\n",
       "      <th>1</th>\n",
       "      <td>East</td>\n",
       "      <td>691</td>\n",
       "    </tr>\n",
       "    <tr>\n",
       "      <th>2</th>\n",
       "      <td>West</td>\n",
       "      <td>231</td>\n",
       "    </tr>\n",
       "  </tbody>\n",
       "</table>\n",
       "</div>"
      ],
      "text/plain": [
       "    Region  Units\n",
       "0  Central   1199\n",
       "1     East    691\n",
       "2     West    231"
      ]
     },
     "execution_count": 60,
     "metadata": {},
     "output_type": "execute_result"
    }
   ],
   "source": [
    "\n",
    "\n",
    "\n",
    "# Group by month and sum 'SalesAmount'\n",
    "Region_sales = df.groupby('Region')['Units'].sum().reset_index()\n",
    "Region_sales\n",
    "\n",
    "\n"
   ]
  },
  {
   "cell_type": "code",
   "execution_count": null,
   "metadata": {},
   "outputs": [
    {
     "data": {
      "image/png": "[encoded data removed]",
      "text/plain": [
       "<Figure size 1000x600 with 1 Axes>"
      ]
     },
     "metadata": {},
     "output_type": "display_data"
    }
   ],
   "source": [
    "# Plotting the seasonal sales patterns\n",
    "plt.figure(figsize=(10, 6))\n",
    "plt.plot(Region_sales['Region'], Region_sales['Units'], marker='o')\n",
    "plt.title('Region Sales Patterns')\n",
    "plt.xlabel('Region')\n",
    "plt.ylabel('Units')\n",
    "#plt.xticks(range(1, 13), ['Jan', 'Feb', 'Mar', 'Apr', 'May', 'Jun', 'Jul', 'Aug', 'Sep', 'Oct', 'Nov', 'Dec'])\n",
    "#plt.grid(True)\n",
    "plt.tight_layout()\n",
    "plt.show()"
   ]
  },
  {
   "cell_type": "code",
   "execution_count": null,
   "metadata": {},
   "outputs": [
    {
     "data": {
      "text/plain": [
       "673"
      ]
     },
     "execution_count": 1,
     "metadata": {},
     "output_type": "execute_result"
    }
   ],
   "source": [
    "278+395"
   ]
  },
  {
   "cell_type": "code",
   "execution_count": 27,
   "metadata": {},
   "outputs": [
    {
     "data": {
      "text/html": [
       "<div>\n",
       "<style scoped>\n",
       "    .dataframe tbody tr th:only-of-type {\n",
       "        vertical-align: middle;\n",
       "    }\n",
       "\n",
       "    .dataframe tbody tr th {\n",
       "        vertical-align: top;\n",
       "    }\n",
       "\n",
       "    .dataframe thead th {\n",
       "        text-align: right;\n",
       "    }\n",
       "</style>\n",
       "<table border=\"1\" class=\"dataframe\">\n",
       "  <thead>\n",
       "    <tr style=\"text-align: right;\">\n",
       "      <th></th>\n",
       "      <th>OrderDate</th>\n",
       "      <th>Region</th>\n",
       "      <th>Rep</th>\n",
       "      <th>Item</th>\n",
       "      <th>Units</th>\n",
       "      <th>Unit Price</th>\n",
       "      <th>Orderdate</th>\n",
       "      <th>YearMonth</th>\n",
       "    </tr>\n",
       "  </thead>\n",
       "  <tbody>\n",
       "    <tr>\n",
       "      <th>0</th>\n",
       "      <td>2014-07-04</td>\n",
       "      <td>East</td>\n",
       "      <td>Richard</td>\n",
       "      <td>Pen Set</td>\n",
       "      <td>62</td>\n",
       "      <td>4.99</td>\n",
       "      <td>2014-07-04</td>\n",
       "      <td>2014-07</td>\n",
       "    </tr>\n",
       "    <tr>\n",
       "      <th>1</th>\n",
       "      <td>2014-07-12</td>\n",
       "      <td>East</td>\n",
       "      <td>Nick</td>\n",
       "      <td>Binder</td>\n",
       "      <td>29</td>\n",
       "      <td>1.99</td>\n",
       "      <td>2014-07-12</td>\n",
       "      <td>2014-07</td>\n",
       "    </tr>\n",
       "    <tr>\n",
       "      <th>2</th>\n",
       "      <td>2014-07-21</td>\n",
       "      <td>Central</td>\n",
       "      <td>Morgan</td>\n",
       "      <td>Pen Set</td>\n",
       "      <td>55</td>\n",
       "      <td>12.49</td>\n",
       "      <td>2014-07-21</td>\n",
       "      <td>2014-07</td>\n",
       "    </tr>\n",
       "    <tr>\n",
       "      <th>3</th>\n",
       "      <td>2014-07-29</td>\n",
       "      <td>East</td>\n",
       "      <td>Susan</td>\n",
       "      <td>Binder</td>\n",
       "      <td>81</td>\n",
       "      <td>19.99</td>\n",
       "      <td>2014-07-29</td>\n",
       "      <td>2014-07</td>\n",
       "    </tr>\n",
       "    <tr>\n",
       "      <th>4</th>\n",
       "      <td>2014-08-07</td>\n",
       "      <td>Central</td>\n",
       "      <td>Matthew</td>\n",
       "      <td>Pen Set</td>\n",
       "      <td>42</td>\n",
       "      <td>23.95</td>\n",
       "      <td>2014-08-07</td>\n",
       "      <td>2014-08</td>\n",
       "    </tr>\n",
       "  </tbody>\n",
       "</table>\n",
       "</div>"
      ],
      "text/plain": [
       "   OrderDate   Region      Rep     Item  Units  Unit Price  Orderdate  \\\n",
       "0 2014-07-04     East  Richard  Pen Set     62        4.99 2014-07-04   \n",
       "1 2014-07-12     East     Nick   Binder     29        1.99 2014-07-12   \n",
       "2 2014-07-21  Central   Morgan  Pen Set     55       12.49 2014-07-21   \n",
       "3 2014-07-29     East    Susan   Binder     81       19.99 2014-07-29   \n",
       "4 2014-08-07  Central  Matthew  Pen Set     42       23.95 2014-08-07   \n",
       "\n",
       "  YearMonth  \n",
       "0   2014-07  \n",
       "1   2014-07  \n",
       "2   2014-07  \n",
       "3   2014-07  \n",
       "4   2014-08  "
      ]
     },
     "execution_count": 27,
     "metadata": {},
     "output_type": "execute_result"
    }
   ],
   "source": [
    "df.head()"
   ]
  },
  {
   "cell_type": "code",
   "execution_count": 28,
   "metadata": {},
   "outputs": [],
   "source": [
    "df['Profit'] = df['Units'] * df['Unit Price']\n",
    "\n",
    "# Group by Item and Sum Profit\n",
    "total_profits = df.groupby('Item')['Profit'].sum()"
   ]
  },
  {
   "cell_type": "code",
   "execution_count": 29,
   "metadata": {},
   "outputs": [
    {
     "data": {
      "text/plain": [
       "Item\n",
       "Binder     9577.65\n",
       "Desk       1700.00\n",
       "Pen        2045.22\n",
       "Pen Set    4169.87\n",
       "Pencil     2135.14\n",
       "Name: Profit, dtype: float64"
      ]
     },
     "execution_count": 29,
     "metadata": {},
     "output_type": "execute_result"
    }
   ],
   "source": [
    "total_profits"
   ]
  },
  {
   "cell_type": "code",
   "execution_count": 30,
   "metadata": {},
   "outputs": [
    {
     "data": {
      "text/plain": [
       "6215.09"
      ]
     },
     "execution_count": 30,
     "metadata": {},
     "output_type": "execute_result"
    }
   ],
   "source": [
    "2045.22 + 4169.87\n"
   ]
  },
  {
   "cell_type": "code",
   "execution_count": null,
   "metadata": {},
   "outputs": [],
   "source": []
  }
 ],
 "metadata": {
  "kernelspec": {
   "display_name": "Python 3",
   "language": "python",
   "name": "python3"
  },
  "language_info": {
   "codemirror_mode": {
    "name": "ipython",
    "version": 3
   },
   "file_extension": ".py",
   "mimetype": "text/x-python",
   "name": "python",
   "nbconvert_exporter": "python",
   "pygments_lexer": "ipython3",
   "version": "3.12.4"
  }
 },
 "nbformat": 4,
 "nbformat_minor": 2
}
